{
 "metadata": {
  "language_info": {
   "codemirror_mode": {
    "name": "ipython",
    "version": 3
   },
   "file_extension": ".py",
   "mimetype": "text/x-python",
   "name": "python",
   "nbconvert_exporter": "python",
   "pygments_lexer": "ipython3",
   "version": "3.9.0-final"
  },
  "orig_nbformat": 2,
  "kernelspec": {
   "name": "python390jvsc74a57bd0e1371b620b748fe5ef07373dbb171613f145a48f5b2ce9f7854211be71adf268",
   "display_name": "Python 3.9.0 64-bit"
  },
  "metadata": {
   "interpreter": {
    "hash": "e1371b620b748fe5ef07373dbb171613f145a48f5b2ce9f7854211be71adf268"
   }
  }
 },
 "nbformat": 4,
 "nbformat_minor": 2,
 "cells": [
  {
   "cell_type": "code",
   "execution_count": 7,
   "metadata": {},
   "outputs": [
    {
     "output_type": "stream",
     "name": "stdout",
     "text": [
      "X  | Y\n---|--\n40 |  \n"
     ]
    }
   ],
   "source": [
    "#Enter the above data using pyDatalog.\n",
    "# Write queries for the following:\n",
    "# a. Print Student name and mark of all students.\n",
    "from pyDatalog import pyDatalog \n",
    "pyDatalog.create_terms(\"X, Y , Score, input\") #student name = x, marks= y\n",
    "Score ((X==input('Enter students name : ')) & (Y==input('Enter students marks : ')))\n",
    "\n"
   ]
  },
  {
   "cell_type": "code",
   "execution_count": 3,
   "metadata": {},
   "outputs": [
    {
     "output_type": "stream",
     "name": "stdout",
     "text": [
      "X   \n----\nBear\n"
     ]
    }
   ],
   "source": [
    "## Write a query to find which animal is dark and big.\n",
    "from pyDatalog import pyDatalog \n",
    "pyDatalog.create_terms(\"Bear, Elephant, Cat, Black, Brown, Gray, Big, Small, size, Color, X, Dark \")\n",
    "+size(\"Bear\", \"Big\")\n",
    "+size(\"Elephant\", \"Big\")\n",
    "+size(\"Cat\", \"Small\")\n",
    "+Color(\"Bear\", \"Brown\")\n",
    "+Color(\"Cat\", \"Black\")\n",
    "+Color(\"Elephant\", \"Gray\")\n",
    "Dark(X) <= (Color(X, \"Black\"))\n",
    "Dark(X) <= (Color(X, \"Brown\"))\n",
    "\n",
    "print(Dark(X) & (size(X, \"Big\")))"
   ]
  },
  {
   "cell_type": "code",
   "execution_count": 12,
   "metadata": {},
   "outputs": [
    {
     "output_type": "error",
     "ename": "SyntaxError",
     "evalue": "invalid syntax (<ipython-input-12-2311f37cab89>, line 1)",
     "traceback": [
      "\u001b[1;36m  File \u001b[1;32m\"<ipython-input-12-2311f37cab89>\"\u001b[1;36m, line \u001b[1;32m1\u001b[0m\n\u001b[1;33m    x = lambda( x: x*x)\u001b[0m\n\u001b[1;37m              ^\u001b[0m\n\u001b[1;31mSyntaxError\u001b[0m\u001b[1;31m:\u001b[0m invalid syntax\n"
     ]
    }
   ],
   "source": [
    "x = lambda( x: x * x)\n",
    "result = x(3)\n",
    "print(result)"
   ]
  },
  {
   "cell_type": "code",
   "execution_count": null,
   "metadata": {},
   "outputs": [],
   "source": []
  }
 ]
}