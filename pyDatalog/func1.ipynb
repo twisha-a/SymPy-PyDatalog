{
 "metadata": {
  "language_info": {
   "codemirror_mode": {
    "name": "ipython",
    "version": 3
   },
   "file_extension": ".py",
   "mimetype": "text/x-python",
   "name": "python",
   "nbconvert_exporter": "python",
   "pygments_lexer": "ipython3",
   "version": "3.9.0-final"
  },
  "orig_nbformat": 2,
  "kernelspec": {
   "name": "python390jvsc74a57bd0e1371b620b748fe5ef07373dbb171613f145a48f5b2ce9f7854211be71adf268",
   "display_name": "Python 3.9.0 64-bit"
  },
  "metadata": {
   "interpreter": {
    "hash": "e1371b620b748fe5ef07373dbb171613f145a48f5b2ce9f7854211be71adf268"
   }
  }
 },
 "nbformat": 4,
 "nbformat_minor": 2,
 "cells": [
  {
   "cell_type": "code",
   "execution_count": 3,
   "metadata": {},
   "outputs": [
    {
     "output_type": "stream",
     "name": "stdout",
     "text": [
      "12\n"
     ]
    }
   ],
   "source": [
    "f = lambda x, y: x * y\n",
    "result = f(3, 4)\n",
    "print(result)"
   ]
  },
  {
   "cell_type": "code",
   "execution_count": 5,
   "metadata": {},
   "outputs": [
    {
     "output_type": "stream",
     "name": "stdout",
     "text": [
      "0.1\n"
     ]
    }
   ],
   "source": [
    "# T AND F\n",
    "f = lambda t: 1/t\n",
    "result = f(10)\n",
    "print(result)\n"
   ]
  },
  {
   "cell_type": "code",
   "execution_count": 8,
   "metadata": {},
   "outputs": [
    {
     "output_type": "stream",
     "name": "stdout",
     "text": [
      "9.84252\n"
     ]
    }
   ],
   "source": [
    "#meter to feet :: 1 meter = 3.28084 feet:: feet - f, meter - m\n",
    "def myfunc(m):\n",
    "  return lambda f : f * m\n",
    "\n",
    "feet_calc = myfunc(3)\n",
    "\n",
    "print(feet_calc(3.28084))"
   ]
  },
  {
   "cell_type": "code",
   "execution_count": null,
   "metadata": {},
   "outputs": [],
   "source": []
  }
 ]
}