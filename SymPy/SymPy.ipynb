{
 "metadata": {
  "language_info": {
   "codemirror_mode": {
    "name": "ipython",
    "version": 3
   },
   "file_extension": ".py",
   "mimetype": "text/x-python",
   "name": "python",
   "nbconvert_exporter": "python",
   "pygments_lexer": "ipython3",
   "version": "3.9.0-final"
  },
  "orig_nbformat": 2,
  "kernelspec": {
   "name": "python390jvsc74a57bd0e1371b620b748fe5ef07373dbb171613f145a48f5b2ce9f7854211be71adf268",
   "display_name": "Python 3.9.0 64-bit"
  },
  "metadata": {
   "interpreter": {
    "hash": "e1371b620b748fe5ef07373dbb171613f145a48f5b2ce9f7854211be71adf268"
   }
  }
 },
 "nbformat": 4,
 "nbformat_minor": 2,
 "cells": [
  {
   "cell_type": "code",
   "execution_count": 1,
   "metadata": {},
   "outputs": [
    {
     "output_type": "stream",
     "name": "stdout",
     "text": [
      "1.414213562373095048801688724209698078569671875376948073176679737990732478462107038850387534327641573\n"
     ]
    }
   ],
   "source": [
    "#Q1 - (i)\n",
    "from sympy import *\n",
    "print(N(sqrt(2),100))\n"
   ]
  },
  {
   "cell_type": "code",
   "execution_count": 3,
   "metadata": {},
   "outputs": [
    {
     "output_type": "execute_result",
     "data": {
      "text/plain": [
       "5/6"
      ],
      "text/latex": "$\\displaystyle \\frac{5}{6}$"
     },
     "metadata": {},
     "execution_count": 3
    }
   ],
   "source": [
    "#Q1 - (ii)\n",
    "import sympy as sp\n",
    "a = sp.Rational(1,2)\n",
    "b = sp.Rational(1,3)\n",
    "sp.simplify(a+b)"
   ]
  },
  {
   "cell_type": "code",
   "execution_count": 4,
   "metadata": {},
   "outputs": [
    {
     "output_type": "execute_result",
     "data": {
      "text/plain": [
       "x**6 + 6*x**5*y + 15*x**4*y**2 + 20*x**3*y**3 + 15*x**2*y**4 + 6*x*y**5 + y**6"
      ],
      "text/latex": "$\\displaystyle x^{6} + 6 x^{5} y + 15 x^{4} y^{2} + 20 x^{3} y^{3} + 15 x^{2} y^{4} + 6 x y^{5} + y^{6}$"
     },
     "metadata": {},
     "execution_count": 4
    }
   ],
   "source": [
    "#Q1 - (iii)\n",
    "import sympy as sp\n",
    "x = sp.Symbol('x')\n",
    "y = sp.Symbol('y')\n",
    "sp.expand((x+y)**6)"
   ]
  },
  {
   "cell_type": "code",
   "execution_count": 5,
   "metadata": {},
   "outputs": [
    {
     "output_type": "execute_result",
     "data": {
      "text/plain": [
       "tan(x)"
      ],
      "text/latex": "$\\displaystyle \\tan{\\left(x \\right)}$"
     },
     "metadata": {},
     "execution_count": 5
    }
   ],
   "source": [
    "#Q1 - (iv)\n",
    "import sympy as sp\n",
    "sp.simplify(sin(x)/cos(x))"
   ]
  },
  {
   "cell_type": "code",
   "execution_count": null,
   "metadata": {},
   "outputs": [],
   "source": []
  }
 ]
}